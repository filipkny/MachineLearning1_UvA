{
 "cells": [
  {
   "cell_type": "markdown",
   "metadata": {},
   "source": [
    "# **Save this file as 10470654_12271136_lab2.ipynb**, please check this suffix when you upload your lab, especially when you have multiple copy's in the same folder!\n",
    "(Your student-id is the number shown on your student card.)\n",
    "\n",
    "E.g. if you work with 3 people, the notebook should be named:\n",
    "12301230_3434343_1238938934_lab2.ipynb.\n",
    "\n",
    "**This will be parsed by a regexp, so please double check your filename.**\n",
    "\n",
    "Before you turn this problem in, please make sure everything runs correctly. First, **restart the kernel** (in the menubar, select Kernel$\\rightarrow$Restart) and then **run all cells** (in the menubar, select Cell$\\rightarrow$Run All). Note, that **you are not allowed to use Google Colab**.\n",
    "\n",
    "**Make sure you fill in any place that says `YOUR CODE HERE` or \"YOUR ANSWER HERE\", as well as your names and email adresses below.**\n",
    "\n"
   ]
  },
  {
   "cell_type": "code",
   "execution_count": 8,
   "metadata": {},
   "outputs": [],
   "source": [
    "NAME = \"Filip Knyszewski\"\n",
    "NAME2 = \"Stijn Verdenius\"\n",
    "NAME3 = \"\"\n",
    "EMAIL = \"filip.knyszewski@student.uva.nl\"\n",
    "EMAIL2 = \"stijn.verdenius@student.uva.nl\"\n",
    "EMAIL3 = \"\""
   ]
  },
  {
   "cell_type": "markdown",
   "metadata": {
    "deletable": false,
    "editable": false,
    "nbgrader": {
     "checksum": "f4a038bb9b524e62f6ec198362f51c9b",
     "grade": false,
     "grade_id": "cell-8d856208da5d0763",
     "locked": true,
     "schema_version": 1,
     "solution": false
    }
   },
   "source": [
    "# Lab 2: Classification\n",
    "\n",
    "### Machine Learning 1, November 2018\n",
    "\n",
    "Notes on implementation:\n",
    "\n",
    "* You should write your code and answers in this IPython Notebook: http://ipython.org/notebook.html. If you have problems, please contact your teaching assistant.\n",
    "* Please write your answers right below the questions.\n",
    "* Among the first lines of your notebook should be \"%pylab inline\". This imports all required modules, and your plots will appear inline.\n",
    "* Use the provided test cells to check if your answers are correct\n",
    "* **Make sure your output and plots are correct before handing in your assignment with Kernel -> Restart & Run All**\n",
    "\n",
    "* **If possible, all your implementations should be vectorized and rely on loops as little as possible. Therefore for some questions, we give you a maximum number of loops that are necessary for an efficient implementation. This number refers to the loops in this particular function and does not count the ones in functions that are called from the function. You should not go above this number for the maximum number of points.**\n",
    "\n",
    "$\\newcommand{\\bx}{\\mathbf{x}}$\n",
    "$\\newcommand{\\bw}{\\mathbf{w}}$\n",
    "$\\newcommand{\\bt}{\\mathbf{t}}$\n",
    "$\\newcommand{\\by}{\\mathbf{y}}$\n",
    "$\\newcommand{\\bm}{\\mathbf{m}}$\n",
    "$\\newcommand{\\bb}{\\mathbf{b}}$\n",
    "$\\newcommand{\\bS}{\\mathbf{S}}$\n",
    "$\\newcommand{\\ba}{\\mathbf{a}}$\n",
    "$\\newcommand{\\bz}{\\mathbf{z}}$\n",
    "$\\newcommand{\\bv}{\\mathbf{v}}$\n",
    "$\\newcommand{\\bq}{\\mathbf{q}}$\n",
    "$\\newcommand{\\bp}{\\mathbf{p}}$\n",
    "$\\newcommand{\\bh}{\\mathbf{h}}$\n",
    "$\\newcommand{\\bI}{\\mathbf{I}}$\n",
    "$\\newcommand{\\bX}{\\mathbf{X}}$\n",
    "$\\newcommand{\\bT}{\\mathbf{T}}$\n",
    "$\\newcommand{\\bPhi}{\\mathbf{\\Phi}}$\n",
    "$\\newcommand{\\bW}{\\mathbf{W}}$\n",
    "$\\newcommand{\\bV}{\\mathbf{V}}$"
   ]
  },
  {
   "cell_type": "code",
   "execution_count": 9,
   "metadata": {
    "deletable": false,
    "editable": false,
    "nbgrader": {
     "checksum": "e3d9c5a44d13bdc7545f1a15d6dc9c8c",
     "grade": false,
     "grade_id": "cell-422dbc02437671ac",
     "locked": true,
     "schema_version": 1,
     "solution": false
    }
   },
   "outputs": [
    {
     "name": "stdout",
     "output_type": "stream",
     "text": [
      "Populating the interactive namespace from numpy and matplotlib\n"
     ]
    },
    {
     "name": "stderr",
     "output_type": "stream",
     "text": [
      "/home/stijnverdenius/miniconda3/envs/ml1labs/lib/python3.6/site-packages/IPython/core/magics/pylab.py:160: UserWarning: pylab import has clobbered these variables: ['indices']\n",
      "`%matplotlib` prevents importing * from pylab and numpy\n",
      "  \"\\n`%matplotlib` prevents importing * from pylab and numpy\"\n"
     ]
    }
   ],
   "source": [
    "%pylab inline\n",
    "plt.rcParams[\"figure.figsize\"] = [9,5]\n",
    "\n",
    "import time\n",
    "start = time.time()"
   ]
  },
  {
   "cell_type": "code",
   "execution_count": 10,
   "metadata": {
    "deletable": false,
    "editable": false,
    "nbgrader": {
     "checksum": "902185d2dda7e356189a57a09a637182",
     "grade": false,
     "grade_id": "cell-7f215df0e22ae748",
     "locked": true,
     "schema_version": 1,
     "solution": false
    }
   },
   "outputs": [],
   "source": [
    "# This cell makes sure that you have all the necessary libraries installed\n",
    "\n",
    "import sys\n",
    "import platform\n",
    "from importlib.util import find_spec, module_from_spec\n",
    "\n",
    "def check_newer_version(version_inst, version_nec):\n",
    "    version_inst_split = version_inst.split('.')\n",
    "    version_nec_split = version_nec.split('.')\n",
    "    for i in range(min(len(version_inst_split), len(version_nec_split))):\n",
    "        if int(version_nec_split[i]) > int(version_inst_split[i]):\n",
    "            return False\n",
    "        elif int(version_nec_split[i]) < int(version_inst_split[i]):\n",
    "            return True\n",
    "    return True\n",
    "        \n",
    "    \n",
    "module_list = [('jupyter', '1.0.0'), \n",
    "               ('matplotlib', '2.0.2'), \n",
    "               ('numpy', '1.13.1'), \n",
    "               ('python', '3.6.2'), \n",
    "               ('sklearn', '0.19.0'), \n",
    "               ('scipy', '0.19.1'), \n",
    "               ('nb_conda', '2.2.1')]\n",
    "\n",
    "packages_correct = True\n",
    "packages_errors = []\n",
    "\n",
    "for module_name, version in module_list:\n",
    "    if module_name == 'scikit-learn':\n",
    "        module_name = 'sklearn'\n",
    "    if module_name == 'pyyaml':\n",
    "        module_name = 'yaml'\n",
    "    if 'python' in module_name:\n",
    "        python_version = platform.python_version()\n",
    "        if not check_newer_version(python_version, version):\n",
    "            packages_correct = False\n",
    "            error = f'Update {module_name} to version {version}. Current version is {python_version}.'\n",
    "            packages_errors.append(error) \n",
    "            print(error)\n",
    "    else:\n",
    "        spec = find_spec(module_name)\n",
    "        if spec is None:\n",
    "            packages_correct = False\n",
    "            error = f'Install {module_name} with version {version} or newer, it is required for this assignment!'\n",
    "            packages_errors.append(error) \n",
    "            print(error)\n",
    "        else:\n",
    "            x =__import__(module_name)\n",
    "            if hasattr(x, '__version__') and not check_newer_version(x.__version__, version):\n",
    "                packages_correct = False\n",
    "                error = f'Update {module_name} to version {version}. Current version is {x.__version__}.'\n",
    "                packages_errors.append(error) \n",
    "                print(error)\n",
    "\n",
    "try:\n",
    "    from google.colab import drive\n",
    "    packages_correct = False\n",
    "    error = \"\"\"Please, don't use google colab!\n",
    "It will make it much more complicated for us to check your homework as it merges all the cells into one.\"\"\"\n",
    "    packages_errors.append(error) \n",
    "    print(error)\n",
    "except:\n",
    "    pass\n",
    "\n",
    "packages_errors = '\\n'.join(packages_errors)"
   ]
  },
  {
   "cell_type": "markdown",
   "metadata": {
    "deletable": false,
    "editable": false,
    "nbgrader": {
     "checksum": "17f77a32492fcf6ac989eab8a50e4dab",
     "grade": false,
     "grade_id": "cell-821f67d8cd14e4f7",
     "locked": true,
     "schema_version": 1,
     "solution": false
    }
   },
   "source": [
    "# Part 1. Multiclass logistic regression\n",
    "\n",
    "Scenario: you have a friend with one big problem: she's completely blind. You decided to help her: she has a special smartphone for blind people, and you are going to develop a mobile phone app that can do _machine vision_ using the mobile camera: converting a picture (from the camera) to the meaning of the image. You decide to start with an app that can read handwritten digits, i.e. convert an image of handwritten digits to text (e.g. it would enable her to read precious handwritten phone numbers).\n",
    "\n",
    "A key building block for such an app would be a function `predict_digit(x)` that returns the digit class of an image patch $\\bx$. Since hand-coding this function is highly non-trivial, you decide to solve this problem using machine learning, such that the internal parameters of this function are automatically learned using machine learning techniques.\n",
    "\n",
    "The dataset you're going to use for this is the MNIST handwritten digits dataset (`http://yann.lecun.com/exdb/mnist/`). You can download the data with scikit learn, and load it as follows:"
   ]
  },
  {
   "cell_type": "code",
   "execution_count": 11,
   "metadata": {
    "deletable": false,
    "editable": false,
    "nbgrader": {
     "checksum": "d31db37aebf93c82a9408cfa97b788d3",
     "grade": false,
     "grade_id": "cell-bcdbc957165abae7",
     "locked": true,
     "schema_version": 1,
     "solution": false
    }
   },
   "outputs": [
    {
     "name": "stderr",
     "output_type": "stream",
     "text": [
      "/home/stijnverdenius/.local/lib/python3.6/site-packages/sklearn/utils/deprecation.py:77: DeprecationWarning: Function fetch_mldata is deprecated; fetch_mldata was deprecated in version 0.20 and will be removed in version 0.22\n",
      "  warnings.warn(msg, category=DeprecationWarning)\n",
      "/home/stijnverdenius/.local/lib/python3.6/site-packages/sklearn/utils/deprecation.py:77: DeprecationWarning: Function mldata_filename is deprecated; mldata_filename was deprecated in version 0.20 and will be removed in version 0.22\n",
      "  warnings.warn(msg, category=DeprecationWarning)\n"
     ]
    }
   ],
   "source": [
    "from sklearn.datasets import fetch_mldata\n",
    "import os\n",
    "# Fetch the data\n",
    "try:\n",
    "    mnist = fetch_mldata('MNIST original', data_home='.')\n",
    "except Exception:\n",
    "    raise FileNotFoundError('Please download mnist-original.mat from Canvas and put it in %s/mldata' % os.getcwd())\n",
    "data, target = mnist.data, mnist.target.astype('int')\n",
    "# Shuffle\n",
    "indices = np.arange(len(data))\n",
    "np.random.seed(123)\n",
    "np.random.shuffle(indices)\n",
    "data, target = data[indices].astype('float32'), target[indices]\n",
    "\n",
    "# Normalize the data between 0.0 and 1.0:\n",
    "data /= 255. \n",
    "\n",
    "# Split\n",
    "x_train, x_valid, x_test = data[:50000], data[50000:60000], data[60000: 70000]\n",
    "t_train, t_valid, t_test = target[:50000], target[50000:60000], target[60000: 70000]"
   ]
  },
  {
   "cell_type": "markdown",
   "metadata": {
    "deletable": false,
    "editable": false,
    "nbgrader": {
     "checksum": "5b20138af0810741223d2c2ddc82bf0f",
     "grade": false,
     "grade_id": "cell-b7b4a5a96dccf229",
     "locked": true,
     "schema_version": 1,
     "solution": false
    }
   },
   "source": [
    "MNIST consists of small 28 by 28 pixel images of written digits (0-9). We split the dataset into a training, validation and testing arrays. The variables `x_train`, `x_valid` and `x_test` are $N \\times M$ matrices, where $N$ is the number of datapoints in the respective set, and $M = 28^2 = 784$ is the dimensionality of the data. The second set of variables `t_train`, `t_valid` and `t_test` contain the corresponding $N$-dimensional vector of integers, containing the true class labels.\n",
    "\n",
    "Here's a visualisation of the first 8 digits of the trainingset:"
   ]
  },
  {
   "cell_type": "code",
   "execution_count": 12,
   "metadata": {
    "deletable": false,
    "editable": false,
    "nbgrader": {
     "checksum": "40e1628ec56b6d664edf9aaf496ea637",
     "grade": false,
     "grade_id": "cell-48a92c0a2a2bf4dd",
     "locked": true,
     "schema_version": 1,
     "solution": false
    }
   },
   "outputs": [
    {
     "data": {
      "image/png": "[encoded data removed]",
      "text/plain": [
       "<Figure size 648x360 with 16 Axes>"
      ]
     },
     "metadata": {
      "needs_background": "light"
     },
     "output_type": "display_data"
    }
   ],
   "source": [
    "def plot_digits(data, num_cols, targets=None, shape=(28,28)):\n",
    "    num_digits = data.shape[0]\n",
    "    num_rows = int(num_digits/num_cols)\n",
    "    for i in range(num_digits):\n",
    "        plt.subplot(num_rows, num_cols, i+1)\n",
    "        plt.imshow(data[i].reshape(shape), interpolation='none', cmap='Greys')\n",
    "        if targets is not None:\n",
    "            plt.title(int(targets[i]))\n",
    "        plt.colorbar()\n",
    "        plt.axis('off')\n",
    "    plt.tight_layout()\n",
    "    plt.show()\n",
    "    \n",
    "plot_digits(x_train[0:40000:5000], num_cols=4, targets=t_train[0:40000:5000])"
   ]
  },
  {
   "cell_type": "markdown",
   "metadata": {
    "deletable": false,
    "editable": false,
    "nbgrader": {
     "checksum": "9c7e0668b7e246603c3c12d9183c9a83",
     "grade": false,
     "grade_id": "cell-3eb664a58e03bf42",
     "locked": true,
     "schema_version": 1,
     "solution": false
    }
   },
   "source": [
    "In _multiclass_ logistic regression, the conditional probability of class label $j$ given the image $\\bx$ for some datapoint is given by:\n",
    "\n",
    "$ \\log p(t = j \\;|\\; \\bx, \\bb, \\bW) = \\log q_j - \\log Z$\n",
    "\n",
    "where $\\log q_j = \\bw_j^T \\bx + b_j$ (the log of the unnormalized probability of the class $j$), and $Z = \\sum_k q_k$ is the normalizing factor. $\\bw_j$ is the $j$-th column of $\\bW$ (a matrix of size $784 \\times 10$) corresponding to the class label, $b_j$ is the $j$-th element of $\\bb$.\n",
    "\n",
    "Given an input image, the multiclass logistic regression model first computes the intermediate vector $\\log \\bq$ (of size $10 \\times 1$), using $\\log q_j = \\bw_j^T \\bx + b_j$, containing the unnormalized log-probabilities per class. \n",
    "\n",
    "The unnormalized probabilities are then normalized by $Z$ such that $\\sum_j p_j = \\sum_j \\exp(\\log p_j) = 1$. This is done by $\\log p_j = \\log q_j - \\log Z$ where $Z = \\sum_i \\exp(\\log q_i)$. This is known as the _softmax_ transformation, and is also used as a last layer of many classifcation neural network models, to ensure that the output of the network is a normalized distribution, regardless of the values of second-to-last layer ($\\log \\bq$)\n",
    "\n",
    "**Warning**: when computing $\\log Z$, you are likely to encounter numerical problems. Save yourself countless hours of debugging and learn the [log-sum-exp trick](https://www.xarg.org/2016/06/the-log-sum-exp-trick-in-machine-learning/ \"Title\").\n",
    "\n",
    "The network's output $\\log \\bp$ of size $10 \\times 1$ then contains the conditional log-probabilities $\\log p(t = j \\;|\\; \\bx, \\bb, \\bW)$ for each digit class $j$. In summary, the computations are done in this order:\n",
    "\n",
    "$\\bx \\rightarrow \\log \\bq \\rightarrow Z \\rightarrow \\log \\bp$\n",
    "\n",
    "Given some dataset with $N$ independent, identically distributed datapoints, the log-likelihood is given by:\n",
    "\n",
    "$ \\mathcal{L}(\\bb, \\bW) = \\sum_{n=1}^N \\mathcal{L}^{(n)}$\n",
    "\n",
    "where we use $\\mathcal{L}^{(n)}$ to denote the partial log-likelihood evaluated over a single datapoint. It is important to see that the log-probability of the class label $t^{(n)}$ given the image, is given by the $t^{(n)}$-th element of the network's output $\\log \\bp$, denoted by $\\log p_{t^{(n)}}$:\n",
    "\n",
    "$\\mathcal{L}^{(n)} = \\log p(t = t^{(n)} \\;|\\; \\bx = \\bx^{(n)}, \\bb, \\bW) = \\log p_{t^{(n)}} = \\log q_{t^{(n)}} - \\log Z^{(n)}$\n",
    "\n",
    "where $\\bx^{(n)}$ and $t^{(n)}$ are the input (image) and class label (integer) of the $n$-th datapoint, and $Z^{(n)}$ is the normalizing constant for the distribution over $t^{(n)}$.\n"
   ]
  },
  {
   "cell_type": "markdown",
   "metadata": {
    "deletable": false,
    "editable": false,
    "nbgrader": {
     "checksum": "88e0996cf7e7e29fd3886b9002845c98",
     "grade": false,
     "grade_id": "cell-17766ee789f11384",
     "locked": true,
     "schema_version": 1,
     "solution": false
    }
   },
   "source": [
    "## 1.1 Gradient-based stochastic optimization\n",
    "### 1.1.1 Derive gradient equations (20 points)\n",
    "\n",
    "Derive the equations for computing the (first) partial derivatives of the log-likelihood w.r.t. all the parameters, evaluated at a _single_ datapoint $n$.\n",
    "\n",
    "You should start deriving the equations for $\\frac{\\partial \\mathcal{L}^{(n)}}{\\partial \\log q_j}$ for each $j$. For clarity, we'll use the shorthand $\\delta^q_j = \\frac{\\partial \\mathcal{L}^{(n)}}{\\partial \\log q_j}$.\n",
    "\n",
    "For $j = t^{(n)}$:\n",
    "$$\n",
    "\\delta^q_j\n",
    "= \\frac{\\partial \\log q_{t^{(n)}}}{\\partial \\log q_j}\n",
    "-\n",
    "\\frac{\\partial \\log Z}{\\partial Z} \n",
    "\\frac{\\partial Z}{\\partial \\log q_j} \n",
    "= 1\n",
    "-\n",
    "\\frac{\\partial \\log Z}{\\partial Z} \n",
    "\\frac{\\partial Z}{\\partial \\log q_j} \n",
    "$$\n",
    "\n",
    "For $j \\neq t^{(n)}$:\n",
    "$$\n",
    "\\delta^q_j\n",
    "= \\frac{\\partial \\log q_{t^{(n)}}}{\\partial \\log q_j}\n",
    "-\n",
    "\\frac{\\partial \\log Z}{\\partial Z} \n",
    "\\frac{\\partial Z}{\\partial \\log q_j} \n",
    "=0 - \\frac{\\partial \\log Z}{\\partial Z} \n",
    "\\frac{\\partial Z}{\\partial \\log q_j}\n",
    "$$\n",
    "\n",
    "Complete the above derivations for $\\delta^q_j$ by furtherly developing $\\frac{\\partial \\log Z}{\\partial Z}$ and $\\frac{\\partial Z}{\\partial \\log q_j}$. Both are quite simple. For these it doesn't matter whether $j = t^{(n)}$ or not.\n",
    "\n"
   ]
  },
  {
   "cell_type": "markdown",
   "metadata": {
    "deletable": false,
    "nbgrader": {
     "checksum": "f394ea0423ed2b17c80bbe8f1193cc81",
     "grade": true,
     "grade_id": "cell-e40110444a1e1d3f",
     "locked": false,
     "points": 10,
     "schema_version": 1,
     "solution": true
    }
   },
   "source": [
    "$$\n",
    "\\frac{\\partial Z}{\\partial \\log q_j}\n",
    "=\n",
    "\\frac{\\partial (\\sum_i \\exp(\\log q_i))}{\\partial \\log q_j}\n",
    "=\n",
    "\\frac{\\partial (\\exp(\\log q_1) + \\exp(\\log q_2) + \\exp(\\log q_3) + ... )}{\\partial \\log q_j}\n",
    "=\n",
    "\\frac{\\partial (0 + \\exp(\\log q_j) + 0)}{\\partial \\log q_j}\n",
    "=\n",
    "\\exp(\\log q_j)\n",
    "$$\n",
    "\n",
    "For $j = t^{(n)}$:\n",
    "\\begin{align}\n",
    "\\delta^q_j\n",
    "=\n",
    "1  - \\frac{\\partial \\log Z}{\\partial Z} \n",
    "\\frac{\\partial Z}{\\partial \\log q_j}\n",
    "= \n",
    "1 - \\frac{\\exp(\\log q_j)}{Z} \n",
    "\\end{align}\n",
    "For $j \\neq t^{(n)}$:\n",
    "\\begin{align}\n",
    "\\delta^q_j\n",
    "=\n",
    "- \\frac{\\partial \\log Z}{\\partial Z} \n",
    "\\frac{\\partial Z}{\\partial \\log q_j}\n",
    "=\n",
    "- \\frac{1}{Z} \n",
    "\\frac{\\partial Z}{\\partial \\log q_j}\n",
    "&=\n",
    "- \\frac{\\exp(\\log q_j)}{Z} \n",
    "\\end{align}"
   ]
  },
  {
   "cell_type": "markdown",
   "metadata": {
    "deletable": false,
    "editable": false,
    "nbgrader": {
     "checksum": "d46c028e9830445397d7b2275815990d",
     "grade": false,
     "grade_id": "cell-c770cfe1389ca4ff",
     "locked": true,
     "schema_version": 1,
     "solution": false
    }
   },
   "source": [
    "Given your equations for computing the gradients $\\delta^q_j$ it should be quite straightforward to derive the equations for the gradients of the parameters of the model, $\\frac{\\partial \\mathcal{L}^{(n)}}{\\partial W_{ij}}$ and $\\frac{\\partial \\mathcal{L}^{(n)}}{\\partial b_j}$. The gradients for the biases $\\bb$ are given by:\n",
    "\n",
    "$\n",
    "\\frac{\\partial \\mathcal{L}^{(n)}}{\\partial b_j}\n",
    "= \\frac{\\partial \\mathcal{L}^{(n)}}{\\partial \\log q_j}\n",
    "\\frac{\\partial \\log q_j}{\\partial b_j}\n",
    "= \\delta^q_j\n",
    "\\cdot 1\n",
    "= \\delta^q_j\n",
    "$\n",
    "\n",
    "The equation above gives the derivative of $\\mathcal{L}^{(n)}$ w.r.t. a single element of $\\bb$, so the vector $\\nabla_\\bb \\mathcal{L}^{(n)}$ with all derivatives of $\\mathcal{L}^{(n)}$ w.r.t. the bias parameters $\\bb$ is: \n",
    "\n",
    "$\n",
    "\\nabla_\\bb \\mathcal{L}^{(n)} = \\mathbf{\\delta}^q\n",
    "$\n",
    "\n",
    "where $\\mathbf{\\delta}^q$ denotes the vector of size $10 \\times 1$ with elements $\\mathbf{\\delta}_j^q$.\n",
    "\n",
    "The (not fully developed) equation for computing the derivative of $\\mathcal{L}^{(n)}$ w.r.t. a single element $W_{ij}$ of $\\bW$ is:\n",
    "\n",
    "$\n",
    "\\frac{\\partial \\mathcal{L}^{(n)}}{\\partial W_{ij}} =\n",
    "\\frac{\\partial \\mathcal{L}^{(n)}}{\\partial \\log q_j}\n",
    "\\frac{\\partial \\log q_j}{\\partial W_{ij}}\n",
    "= \\mathbf{\\delta}_j^q\n",
    "\\frac{\\partial \\log q_j}{\\partial W_{ij}}\n",
    "$\n",
    "\n",
    "What is $\\frac{\\partial \\log q_j}{\\partial W_{ij}}$? Complete the equation above.\n",
    "\n",
    "If you want, you can give the resulting equation in vector format ($\\nabla_{\\bw_j} \\mathcal{L}^{(n)} = ...$), like we did for $\\nabla_\\bb \\mathcal{L}^{(n)}$."
   ]
  },
  {
   "cell_type": "markdown",
   "metadata": {
    "deletable": false,
    "nbgrader": {
     "checksum": "70fc98e5b227736e2bb92964a3c7174d",
     "grade": true,
     "grade_id": "cell-e40110444a1asdfasdfd3f",
     "locked": false,
     "points": 10,
     "schema_version": 1,
     "solution": true
    }
   },
   "source": [
    "$\n",
    "\\bw_j^T\n",
    "=\n",
    "\\begin{bmatrix}\n",
    "w_1j & w_2j & w_3j & ... & w_{784}j\n",
    "\\end{bmatrix}\n",
    "$\n",
    "so\n",
    "$\n",
    "\\frac{\\partial\\bw_j^T}{\\partial W_{ij}}\n",
    "=\n",
    "\\begin{bmatrix}\n",
    "0 & ... & 1  & ... & 0\n",
    "\\end{bmatrix}\n",
    "$\n",
    "Where the 1 is positioned at ith entry of the vector.\n",
    "\n",
    "$\n",
    "\\frac{\\partial (\\bw_j^T \\bx)}{\\partial W_{ij}}\n",
    "=\n",
    "\\frac{\\partial\\bw_j^T}{\\partial W_{ij}}\\bx\n",
    "+\n",
    "\\bw_j^T\n",
    "\\frac{\\partial\\bx}{\\partial W_{ij}}\n",
    "=\n",
    "\\frac{\\partial\\bw_j^T}{\\partial W_{ij}}\\bx\n",
    "+\n",
    "\\mathbf{0}\n",
    "=\n",
    "x_i\n",
    "$\n",
    "\n",
    "$\n",
    "\\frac{\\partial \\mathcal{L}^{(n)}}{\\partial W_{ij}} =\n",
    "\\frac{\\partial \\mathcal{L}^{(n)}}{\\partial \\log q_j}\n",
    "\\frac{\\partial \\log q_j}{\\partial W_{ij}}\n",
    "= \\mathbf{\\delta}_j^q\n",
    "\\frac{\\partial \\log q_j}{\\partial W_{ij}}\n",
    "= \\mathbf{\\delta}_j^q\n",
    "\\frac{\\partial (\\bw_j^T \\bx + b_j)}{\\partial W_{ij}}\n",
    "= \\mathbf{\\delta}_j^q\n",
    "\\frac{\\partial (\\bw_j^T \\bx)}{\\partial W_{ij}}\n",
    "+\n",
    "\\frac{\\partial (b_j)}{\\partial W_{ij}}\n",
    "=\n",
    "\\mathbf{\\delta}_j^q\n",
    "x_i\n",
    "+\n",
    "0\n",
    "=\n",
    "\\mathbf{\\delta}_j^q\n",
    "x_i\n",
    "$\n",
    "\n",
    "\n",
    "\n"
   ]
  },
  {
   "cell_type": "markdown",
   "metadata": {
    "deletable": false,
    "editable": false,
    "nbgrader": {
     "checksum": "7744e9051681182c7e1af0c515622fce",
     "grade": false,
     "grade_id": "cell-b0f28b0924b9983d",
     "locked": true,
     "schema_version": 1,
     "solution": false
    }
   },
   "source": [
    "### 1.1.2 Implement gradient computations (15 points)\n",
    "\n",
    "Implement the gradient calculations you derived in the previous question. Write a function `logreg_gradient(x, t, w, b)` that returns the gradients $\\nabla_{\\bw_j} \\mathcal{L}^{(n)}$ (for each $j$) and $\\nabla_{\\bb} \\mathcal{L}^{(n)}$, i.e. the first partial derivatives of the log-likelihood w.r.t. the parameters $\\bW$ and $\\bb$, evaluated at a single datapoint (`x`, `t`).\n",
    "The computation will contain roughly the following intermediate variables:\n",
    "\n",
    "$\n",
    "\\log \\bq \\rightarrow Z \\rightarrow \\log \\bp\\,,\\, \\mathbf{\\delta}^q\n",
    "$\n",
    "\n",
    "followed by computation of the gradient vectors $\\nabla_{\\bw_j} \\mathcal{L}^{(n)}$ (contained in a $784 \\times 10$ matrix) and $\\nabla_{\\bb} \\mathcal{L}^{(n)}$ (a $10 \\times 1$ vector).\n",
    "\n",
    "For maximum points, ensure the function is numerically stable.\n"
   ]
  },
  {
   "cell_type": "code",
   "execution_count": 22,
   "metadata": {
    "deletable": false,
    "nbgrader": {
     "checksum": "e0d41cbf33ddb93414c789220c024c45",
     "grade": false,
     "grade_id": "cell-6858f885be587480",
     "locked": false,
     "schema_version": 1,
     "solution": true
    }
   },
   "outputs": [],
   "source": [
    "# 1.1.2 Compute gradient of log p(t|x;w,b) wrt w and b\n",
    "def logreg_gradient(x, t, w, b):\n",
    "    \n",
    "    log_q = np.dot(x,w)+b\n",
    "    \n",
    "    # Keeping it numerically stable\n",
    "    a = np.ndarray.max(log_q)\n",
    "    log_Z = a\n",
    "    \n",
    "    log_Z += np.log(sum(np.exp(log_q-a)))\n",
    "        \n",
    "    # logp\n",
    "    logp = log_q-log_Z\n",
    "    \n",
    "    delta_q = np.array([-np.exp(log_q[0,i])/np.exp(log_Z) for i in range(len(b))])\n",
    "    delta_q[t] = 1 - np.exp(log_q[0,t])/np.exp(log_Z)\n",
    "    \n",
    "    dL_db = delta_q\n",
    "    \n",
    "    dL_dw = np.dot(x.T,delta_q.reshape(1,10))\n",
    "    \n",
    "    return logp[:,t].squeeze(), dL_dw, dL_db.squeeze()\n"
   ]
  },
  {
   "cell_type": "code",
   "execution_count": 23,
   "metadata": {
    "deletable": false,
    "editable": false,
    "nbgrader": {
     "checksum": "a86683efa9cf9356b51f08cb6d2599b7",
     "grade": true,
     "grade_id": "cell-48057487182fe951",
     "locked": true,
     "points": 5,
     "schema_version": 1,
     "solution": false
    }
   },
   "outputs": [],
   "source": [
    "# Hidden tests for efficiency"
   ]
  },
  {
   "cell_type": "code",
   "execution_count": 24,
   "metadata": {
    "deletable": false,
    "editable": false,
    "nbgrader": {
     "checksum": "281f0c66a2c9bfdf53c1995a852eea1f",
     "grade": true,
     "grade_id": "cell-1c9659f607b151a2",
     "locked": true,
     "points": 4,
     "schema_version": 1,
     "solution": false
    }
   },
   "outputs": [
    {
     "name": "stdout",
     "output_type": "stream",
     "text": [
      "Test gradient on one point\n",
      "Log Likelihood:\t -2.2959726720744777\n",
      "\n",
      "Grad_W_ij\t (784, 10) matrix\n",
      "Grad_W_ij[0,152:158]=\t [-0.04518971 -0.06758809 -0.07819784 -0.09077237 -0.07584012 -0.06365855]\n",
      "\n",
      "Grad_B_i shape\t (10,) vector\n",
      "Grad_B_i=\t [-0.10020327 -0.09977827 -0.1003198   0.89933657 -0.10037941 -0.10072863\n",
      " -0.09982729 -0.09928672 -0.09949324 -0.09931994]\n",
      "i in {0,...,9}; j in M\n"
     ]
    }
   ],
   "source": [
    "np.random.seed(123)\n",
    "# scalar, 10 X 768  matrix, 10 X 1 vector\n",
    "w = np.random.normal(size=(28*28,10), scale=0.001)\n",
    "# w = np.zeros((784,10))\n",
    "b = np.zeros((10,))\n",
    "\n",
    "# test gradients, train on 1 sample\n",
    "logpt, grad_w, grad_b = logreg_gradient(x_train[0:1,:], t_train[0:1], w, b)\n",
    "\n",
    "print(\"Test gradient on one point\")\n",
    "print(\"Log Likelihood:\\t\", logpt)\n",
    "print(\"\\nGrad_W_ij\\t\",grad_w.shape,\"matrix\")\n",
    "print(\"Grad_W_ij[0,152:158]=\\t\", grad_w[152:158,0])\n",
    "print(\"\\nGrad_B_i shape\\t\",grad_b.shape,\"vector\")\n",
    "print(\"Grad_B_i=\\t\", grad_b.T)\n",
    "print(\"i in {0,...,9}; j in M\")\n",
    "\n",
    "assert logpt.shape == (), logpt.shape\n",
    "assert grad_w.shape == (784, 10), grad_w.shape\n",
    "assert grad_b.shape == (10,), grad_b.shape\n",
    "\n",
    "\n"
   ]
  },
  {
   "cell_type": "code",
   "execution_count": 25,
   "metadata": {
    "deletable": false,
    "editable": false,
    "nbgrader": {
     "checksum": "2ec5c9e0bdfc89e9d8e34971863dd612",
     "grade": true,
     "grade_id": "cell-fd59c3a03a87ab83",
     "locked": true,
     "points": 4,
     "schema_version": 1,
     "solution": false
    }
   },
   "outputs": [
    {
     "name": "stdout",
     "output_type": "stream",
     "text": [
      "Finite difference error grad_w: 6.411502514845462e-07\n",
      "Finite difference error grad_b: 5.235117487425521e-08\n"
     ]
    }
   ],
   "source": [
    "# It's always good to check your gradient implementations with finite difference checking:\n",
    "# Scipy provides the check_grad function, which requires flat input variables.\n",
    "# So we write two helper functions that provide the gradient and output with 'flat' weights:\n",
    "from scipy.optimize import check_grad\n",
    "\n",
    "np.random.seed(123)\n",
    "# scalar, 10 X 768  matrix, 10 X 1 vector\n",
    "w = np.random.normal(size=(28*28,10), scale=0.001)\n",
    "# w = np.zeros((784,10))\n",
    "b = np.zeros((10,))\n",
    "\n",
    "def func(w):\n",
    "    logpt, grad_w, grad_b = logreg_gradient(x_train[0:1,:], t_train[0:1], w.reshape(784,10), b)\n",
    "    return logpt\n",
    "def grad(w):\n",
    "    logpt, grad_w, grad_b = logreg_gradient(x_train[0:1,:], t_train[0:1], w.reshape(784,10), b)\n",
    "    return grad_w.flatten()\n",
    "finite_diff_error = check_grad(func, grad, w.flatten())\n",
    "print('Finite difference error grad_w:', finite_diff_error)\n",
    "assert finite_diff_error < 1e-3, 'Your gradient computation for w seems off'\n",
    "\n",
    "def func(b):\n",
    "    logpt, grad_w, grad_b = logreg_gradient(x_train[0:1,:], t_train[0:1], w, b)\n",
    "    return logpt\n",
    "def grad(b):\n",
    "    logpt, grad_w, grad_b = logreg_gradient(x_train[0:1,:], t_train[0:1], w, b)\n",
    "    return grad_b.flatten()\n",
    "finite_diff_error = check_grad(func, grad, b)\n",
    "print('Finite difference error grad_b:', finite_diff_error)\n",
    "assert finite_diff_error < 1e-3, 'Your gradient computation for b seems off'\n",
    "\n"
   ]
  },
  {
   "cell_type": "code",
   "execution_count": 31,
   "metadata": {
    "deletable": false,
    "editable": false,
    "nbgrader": {
     "checksum": "4bb956f91b61cedbca19fe84c4b7fd44",
     "grade": true,
     "grade_id": "cell-91b8c5eb86f6a0f3",
     "locked": true,
     "points": 2,
     "schema_version": 1,
     "solution": false
    }
   },
   "outputs": [],
   "source": [
    "# DO NOT REMOVE THIS CELL!\n",
    "# It contains hidden tests\n"
   ]
  },
  {
   "cell_type": "markdown",
   "metadata": {
    "deletable": false,
    "editable": false,
    "nbgrader": {
     "checksum": "1f2bf7605bef859967bd38bb1c3c384c",
     "grade": false,
     "grade_id": "cell-bdce061b39aaacec",
     "locked": true,
     "schema_version": 1,
     "solution": false
    }
   },
   "source": [
    "\n",
    "### 1.1.3 Stochastic gradient descent (15 points)\n",
    "\n",
    "Write a function `sgd_iter(x_train, t_train, w, b)` that performs one iteration of stochastic gradient descent (SGD), and returns the new weights. It should go through the trainingset once in randomized order, call `logreg_gradient(x, t, w, b)` for each datapoint to get the gradients, and update the parameters **using a small learning rate of `1e-6`**. Note that in this case we're maximizing the likelihood function, so we should actually performing gradient ___ascent___... For more information about SGD, see Bishop 5.2.4 or an online source (i.e. https://en.wikipedia.org/wiki/Stochastic_gradient_descent)"
   ]
  },
  {
   "cell_type": "code",
   "execution_count": 27,
   "metadata": {
    "deletable": false,
    "nbgrader": {
     "checksum": "a1fd10093bd350a24e4a718bc0133738",
     "grade": true,
     "grade_id": "cell-86bf84658f1c5bc8",
     "locked": false,
     "points": 5,
     "schema_version": 1,
     "solution": true
    }
   },
   "outputs": [],
   "source": [
    "def sgd_iter(x_train, t_train, W, b):\n",
    "    \n",
    "    # on piazza we read that the learning rate should be updated\n",
    "    eta = 1e-4\n",
    "    indices = np.array(range(len(x_train)))\n",
    "    np.random.shuffle(indices)\n",
    "    \n",
    "    logp_list = []\n",
    "    for index in indices:\n",
    "        logp_train, grad_w, grad_b = logreg_gradient(x_train[index:index+1,:], t_train[index:index+1], W, b)\n",
    "        W = W + np.dot(eta, grad_w)\n",
    "        b = b + np.dot(eta, grad_b)\n",
    "        logp_list.append(logp_train)\n",
    "        \n",
    "    logp_list = []\n",
    "    for index in indices:\n",
    "        logp_train, grad_w, grad_b = logreg_gradient(x_train[index:index+1,:], t_train[index:index+1], W, b)\n",
    "        logp_list.append(logp_train)\n",
    "        \n",
    "    return np.mean(logp_list), W, b"
   ]
  },
  {
   "cell_type": "code",
   "execution_count": 28,
   "metadata": {
    "deletable": false,
    "editable": false,
    "nbgrader": {
     "checksum": "f9dc9179ce6db8ed7eba9ea02ed82723",
     "grade": true,
     "grade_id": "cell-0929d502114babdb",
     "locked": true,
     "points": 5,
     "schema_version": 1,
     "solution": false
    }
   },
   "outputs": [],
   "source": [
    "# Hidden tests for efficiency"
   ]
  },
  {
   "cell_type": "code",
   "execution_count": 29,
   "metadata": {
    "deletable": false,
    "editable": false,
    "nbgrader": {
     "checksum": "0e5a417580d51fc1c3ef7519047eead4",
     "grade": true,
     "grade_id": "cell-2f7bbc264cc887a0",
     "locked": true,
     "points": 5,
     "schema_version": 1,
     "solution": false
    }
   },
   "outputs": [],
   "source": [
    "# Sanity check:\n",
    "np.random.seed(1243)\n",
    "w = np.zeros((28*28, 10))\n",
    "b = np.zeros(10)\n",
    "    \n",
    "logp_train, W, b = sgd_iter(x_train[:5], t_train[:5], w, b)\n",
    "\n",
    "\n"
   ]
  },
  {
   "cell_type": "markdown",
   "metadata": {
    "deletable": false,
    "editable": false,
    "nbgrader": {
     "checksum": "a60e2b48d4b187276ec9e8f8ef86a5f3",
     "grade": false,
     "grade_id": "cell-81634c804e1f93fc",
     "locked": true,
     "schema_version": 1,
     "solution": false
    }
   },
   "source": [
    "## 1.2. Train\n",
    "\n",
    "### 1.2.1 Train (12 points)\n",
    "Perform SGD on the training set. Plot (in one graph) the conditional log-probability of the training set and validation set after each iteration. (6 points)\n",
    "\n",
    "Instead of running SGD for a fixed number of steps, run it until convergence. Think of a reasonable criterion for determining convergence. As a reference: choose a criterion such that the algorithm terminates in less than 15 iterations over the training set. (2 points)\n",
    "\n",
    "Make sure your implementation (in particular, the output of the conditional log-probability of the training set and validation set) is independent of the size of the dataset. (2 points)"
   ]
  },
  {
   "cell_type": "code",
   "execution_count": 30,
   "metadata": {
    "deletable": false,
    "nbgrader": {
     "checksum": "221a9af93fcc6e5ab77fc26652c80a5f",
     "grade": true,
     "grade_id": "cell-20a347ba4db6e82c",
     "locked": false,
     "points": 10,
     "schema_version": 1,
     "solution": true
    }
   },
   "outputs": [
    {
     "name": "stdout",
     "output_type": "stream",
     "text": [
      "epoch: 1 difference with last epoch: 9.223372036854776e+18 current average log likelihood: -0.7937849095101889\n",
      "epoch: 2 difference with last epoch: 0.1898748435894878 current average log likelihood: -0.6039100659207011\n",
      "epoch: 3 difference with last epoch: 0.07697260865774369 current average log likelihood: -0.5269374572629574\n",
      "epoch: 4 difference with last epoch: 0.04359407794791248 current average log likelihood: -0.4833433793150449\n"
     ]
    },
    {
     "ename": "KeyboardInterrupt",
     "evalue": "",
     "output_type": "error",
     "traceback": [
      "\u001b[0;31m---------------------------------------------------------------------------\u001b[0m",
      "\u001b[0;31mKeyboardInterrupt\u001b[0m                         Traceback (most recent call last)",
      "\u001b[0;32m<ipython-input-30-b73f41cf820b>\u001b[0m in \u001b[0;36m<module>\u001b[0;34m\u001b[0m\n\u001b[1;32m     54\u001b[0m \u001b[0mw\u001b[0m \u001b[0;34m=\u001b[0m \u001b[0mnp\u001b[0m\u001b[0;34m.\u001b[0m\u001b[0mzeros\u001b[0m\u001b[0;34m(\u001b[0m\u001b[0;34m(\u001b[0m\u001b[0;36m28\u001b[0m\u001b[0;34m*\u001b[0m\u001b[0;36m28\u001b[0m\u001b[0;34m,\u001b[0m \u001b[0;36m10\u001b[0m\u001b[0;34m)\u001b[0m\u001b[0;34m)\u001b[0m\u001b[0;34m\u001b[0m\u001b[0m\n\u001b[1;32m     55\u001b[0m \u001b[0mb\u001b[0m \u001b[0;34m=\u001b[0m \u001b[0mnp\u001b[0m\u001b[0;34m.\u001b[0m\u001b[0mzeros\u001b[0m\u001b[0;34m(\u001b[0m\u001b[0;36m10\u001b[0m\u001b[0;34m)\u001b[0m\u001b[0;34m\u001b[0m\u001b[0m\n\u001b[0;32m---> 56\u001b[0;31m \u001b[0mw\u001b[0m\u001b[0;34m,\u001b[0m\u001b[0mb\u001b[0m \u001b[0;34m=\u001b[0m \u001b[0mtest_sgd\u001b[0m\u001b[0;34m(\u001b[0m\u001b[0mx_train\u001b[0m\u001b[0;34m,\u001b[0m \u001b[0mt_train\u001b[0m\u001b[0;34m,\u001b[0m \u001b[0mx_valid\u001b[0m\u001b[0;34m,\u001b[0m \u001b[0mt_valid\u001b[0m\u001b[0;34m,\u001b[0m \u001b[0mw\u001b[0m\u001b[0;34m,\u001b[0m \u001b[0mb\u001b[0m\u001b[0;34m)\u001b[0m\u001b[0;34m\u001b[0m\u001b[0m\n\u001b[0m",
      "\u001b[0;32m<ipython-input-30-b73f41cf820b>\u001b[0m in \u001b[0;36mtest_sgd\u001b[0;34m(x_train, t_train, x_valid, t_valid, w, b)\u001b[0m\n\u001b[1;32m     30\u001b[0m     \u001b[0;32mwhile\u001b[0m \u001b[0mdiff\u001b[0m \u001b[0;34m>\u001b[0m \u001b[0mepsilon\u001b[0m\u001b[0;34m:\u001b[0m\u001b[0;34m\u001b[0m\u001b[0m\n\u001b[1;32m     31\u001b[0m         \u001b[0mepoch\u001b[0m \u001b[0;34m+=\u001b[0m \u001b[0;36m1\u001b[0m\u001b[0;34m\u001b[0m\u001b[0m\n\u001b[0;32m---> 32\u001b[0;31m         \u001b[0mlogp_train\u001b[0m\u001b[0;34m,\u001b[0m \u001b[0mw\u001b[0m\u001b[0;34m,\u001b[0m \u001b[0mb\u001b[0m \u001b[0;34m=\u001b[0m \u001b[0msgd_iter\u001b[0m\u001b[0;34m(\u001b[0m\u001b[0mx_train\u001b[0m\u001b[0;34m,\u001b[0m \u001b[0mt_train\u001b[0m\u001b[0;34m,\u001b[0m \u001b[0mw\u001b[0m\u001b[0;34m,\u001b[0m \u001b[0mb\u001b[0m\u001b[0;34m)\u001b[0m\u001b[0;34m\u001b[0m\u001b[0m\n\u001b[0m\u001b[1;32m     33\u001b[0m         \u001b[0mlogp_valid\u001b[0m\u001b[0;34m,\u001b[0m \u001b[0m_\u001b[0m \u001b[0;34m=\u001b[0m \u001b[0mvalidate\u001b[0m\u001b[0;34m(\u001b[0m\u001b[0mx_valid\u001b[0m\u001b[0;34m,\u001b[0m \u001b[0mt_valid\u001b[0m\u001b[0;34m,\u001b[0m \u001b[0mw\u001b[0m\u001b[0;34m,\u001b[0m \u001b[0mb\u001b[0m\u001b[0;34m)\u001b[0m\u001b[0;34m\u001b[0m\u001b[0m\n\u001b[1;32m     34\u001b[0m \u001b[0;34m\u001b[0m\u001b[0m\n",
      "\u001b[0;32m<ipython-input-27-9391bb27d80d>\u001b[0m in \u001b[0;36msgd_iter\u001b[0;34m(x_train, t_train, W, b)\u001b[0m\n\u001b[1;32m      8\u001b[0m     \u001b[0mlogp_list\u001b[0m \u001b[0;34m=\u001b[0m \u001b[0;34m[\u001b[0m\u001b[0;34m]\u001b[0m\u001b[0;34m\u001b[0m\u001b[0m\n\u001b[1;32m      9\u001b[0m     \u001b[0;32mfor\u001b[0m \u001b[0mindex\u001b[0m \u001b[0;32min\u001b[0m \u001b[0mindices\u001b[0m\u001b[0;34m:\u001b[0m\u001b[0;34m\u001b[0m\u001b[0m\n\u001b[0;32m---> 10\u001b[0;31m         \u001b[0mlogp_train\u001b[0m\u001b[0;34m,\u001b[0m \u001b[0mgrad_w\u001b[0m\u001b[0;34m,\u001b[0m \u001b[0mgrad_b\u001b[0m \u001b[0;34m=\u001b[0m \u001b[0mlogreg_gradient\u001b[0m\u001b[0;34m(\u001b[0m\u001b[0mx_train\u001b[0m\u001b[0;34m[\u001b[0m\u001b[0mindex\u001b[0m\u001b[0;34m:\u001b[0m\u001b[0mindex\u001b[0m\u001b[0;34m+\u001b[0m\u001b[0;36m1\u001b[0m\u001b[0;34m,\u001b[0m\u001b[0;34m:\u001b[0m\u001b[0;34m]\u001b[0m\u001b[0;34m,\u001b[0m \u001b[0mt_train\u001b[0m\u001b[0;34m[\u001b[0m\u001b[0mindex\u001b[0m\u001b[0;34m:\u001b[0m\u001b[0mindex\u001b[0m\u001b[0;34m+\u001b[0m\u001b[0;36m1\u001b[0m\u001b[0;34m]\u001b[0m\u001b[0;34m,\u001b[0m \u001b[0mW\u001b[0m\u001b[0;34m,\u001b[0m \u001b[0mb\u001b[0m\u001b[0;34m)\u001b[0m\u001b[0;34m\u001b[0m\u001b[0m\n\u001b[0m\u001b[1;32m     11\u001b[0m         \u001b[0mW\u001b[0m \u001b[0;34m=\u001b[0m \u001b[0mW\u001b[0m \u001b[0;34m+\u001b[0m \u001b[0mnp\u001b[0m\u001b[0;34m.\u001b[0m\u001b[0mdot\u001b[0m\u001b[0;34m(\u001b[0m\u001b[0meta\u001b[0m\u001b[0;34m,\u001b[0m \u001b[0mgrad_w\u001b[0m\u001b[0;34m)\u001b[0m\u001b[0;34m\u001b[0m\u001b[0m\n\u001b[1;32m     12\u001b[0m         \u001b[0mb\u001b[0m \u001b[0;34m=\u001b[0m \u001b[0mb\u001b[0m \u001b[0;34m+\u001b[0m \u001b[0mnp\u001b[0m\u001b[0;34m.\u001b[0m\u001b[0mdot\u001b[0m\u001b[0;34m(\u001b[0m\u001b[0meta\u001b[0m\u001b[0;34m,\u001b[0m \u001b[0mgrad_b\u001b[0m\u001b[0;34m)\u001b[0m\u001b[0;34m\u001b[0m\u001b[0m\n",
      "\u001b[0;32m<ipython-input-22-c1ea4a8c0862>\u001b[0m in \u001b[0;36mlogreg_gradient\u001b[0;34m(x, t, w, b)\u001b[0m\n\u001b[1;32m      8\u001b[0m     \u001b[0mlog_Z\u001b[0m \u001b[0;34m=\u001b[0m \u001b[0ma\u001b[0m\u001b[0;34m\u001b[0m\u001b[0m\n\u001b[1;32m      9\u001b[0m \u001b[0;34m\u001b[0m\u001b[0m\n\u001b[0;32m---> 10\u001b[0;31m     \u001b[0mlog_Z\u001b[0m \u001b[0;34m+=\u001b[0m \u001b[0mnp\u001b[0m\u001b[0;34m.\u001b[0m\u001b[0mlog\u001b[0m\u001b[0;34m(\u001b[0m\u001b[0msum\u001b[0m\u001b[0;34m(\u001b[0m\u001b[0mnp\u001b[0m\u001b[0;34m.\u001b[0m\u001b[0mexp\u001b[0m\u001b[0;34m(\u001b[0m\u001b[0mlog_q\u001b[0m\u001b[0;34m-\u001b[0m\u001b[0ma\u001b[0m\u001b[0;34m)\u001b[0m\u001b[0;34m)\u001b[0m\u001b[0;34m)\u001b[0m\u001b[0;34m\u001b[0m\u001b[0m\n\u001b[0m\u001b[1;32m     11\u001b[0m \u001b[0;34m\u001b[0m\u001b[0m\n\u001b[1;32m     12\u001b[0m     \u001b[0;31m# logp\u001b[0m\u001b[0;34m\u001b[0m\u001b[0;34m\u001b[0m\u001b[0m\n",
      "\u001b[0;32m~/.local/lib/python3.6/site-packages/numpy/core/fromnumeric.py\u001b[0m in \u001b[0;36msum\u001b[0;34m(a, axis, dtype, out, keepdims, initial)\u001b[0m\n\u001b[1;32m   1928\u001b[0m \u001b[0;34m\u001b[0m\u001b[0m\n\u001b[1;32m   1929\u001b[0m     return _wrapreduction(a, np.add, 'sum', axis, dtype, out, keepdims=keepdims,\n\u001b[0;32m-> 1930\u001b[0;31m                           initial=initial)\n\u001b[0m\u001b[1;32m   1931\u001b[0m \u001b[0;34m\u001b[0m\u001b[0m\n\u001b[1;32m   1932\u001b[0m \u001b[0;34m\u001b[0m\u001b[0m\n",
      "\u001b[0;32m~/.local/lib/python3.6/site-packages/numpy/core/fromnumeric.py\u001b[0m in \u001b[0;36m_wrapreduction\u001b[0;34m(obj, ufunc, method, axis, dtype, out, **kwargs)\u001b[0m\n\u001b[1;32m     68\u001b[0m             \u001b[0mpasskwargs\u001b[0m\u001b[0;34m[\u001b[0m\u001b[0mk\u001b[0m\u001b[0;34m]\u001b[0m \u001b[0;34m=\u001b[0m \u001b[0mv\u001b[0m\u001b[0;34m\u001b[0m\u001b[0m\n\u001b[1;32m     69\u001b[0m \u001b[0;34m\u001b[0m\u001b[0m\n\u001b[0;32m---> 70\u001b[0;31m     \u001b[0;32mif\u001b[0m \u001b[0mtype\u001b[0m\u001b[0;34m(\u001b[0m\u001b[0mobj\u001b[0m\u001b[0;34m)\u001b[0m \u001b[0;32mis\u001b[0m \u001b[0;32mnot\u001b[0m \u001b[0mmu\u001b[0m\u001b[0;34m.\u001b[0m\u001b[0mndarray\u001b[0m\u001b[0;34m:\u001b[0m\u001b[0;34m\u001b[0m\u001b[0m\n\u001b[0m\u001b[1;32m     71\u001b[0m         \u001b[0;32mtry\u001b[0m\u001b[0;34m:\u001b[0m\u001b[0;34m\u001b[0m\u001b[0m\n\u001b[1;32m     72\u001b[0m             \u001b[0mreduction\u001b[0m \u001b[0;34m=\u001b[0m \u001b[0mgetattr\u001b[0m\u001b[0;34m(\u001b[0m\u001b[0mobj\u001b[0m\u001b[0;34m,\u001b[0m \u001b[0mmethod\u001b[0m\u001b[0;34m)\u001b[0m\u001b[0;34m\u001b[0m\u001b[0m\n",
      "\u001b[0;31mKeyboardInterrupt\u001b[0m: "
     ]
    }
   ],
   "source": [
    "import sys \n",
    "\n",
    "def validate(x_valid, t_valid, w, b, top=0):\n",
    "    \n",
    "    indices = np.array(range(len(x_valid)))    \n",
    "    logp_list = []\n",
    "    for index in indices:\n",
    "        logp_train, _, _ = logreg_gradient(x_valid[index:index+1,:], t_valid[index:index+1], w, b)\n",
    "        logp_list.append(logp_train)\n",
    "        \n",
    "    \n",
    "    maxx = np.array(logp_list).argsort()\n",
    "    \n",
    "    if top>=0:\n",
    "        show = x_valid[maxx[len(maxx)-1-top:]]\n",
    "    else:\n",
    "        show = x_valid[maxx[0:-top]]\n",
    "\n",
    "    return np.mean(logp_list), show\n",
    "\n",
    "\n",
    "def test_sgd(x_train, t_train, x_valid, t_valid, w, b):\n",
    "\n",
    "    epsilon = 0.0035\n",
    "    diff = sys.maxsize\n",
    "    diff_valid = sys.maxsize\n",
    "    logp = [diff]\n",
    "    logp_v = [diff_valid]\n",
    "    epoch = 0\n",
    "    while diff > epsilon:\n",
    "        epoch += 1\n",
    "        logp_train, w, b = sgd_iter(x_train, t_train, w, b)\n",
    "        logp_valid, _ = validate(x_valid, t_valid, w, b)\n",
    "        \n",
    "        diff = abs(sum(logp_train - logp[-1]))\n",
    "        \n",
    "        logp.append(logp_train)\n",
    "        logp_v.append(logp_valid)\n",
    "        \n",
    "        print(\"epoch:\", epoch, \"difference with last epoch:\", diff, \"current average log likelihood:\", logp_train )\n",
    "        \n",
    "    \n",
    "    logp.pop(0)\n",
    "    logp_v.pop(0)\n",
    "    \n",
    "    plt.plot(logp, label=\"train\")\n",
    "    plt.plot(logp_v, label=\"validation\")\n",
    "    plt.legend()\n",
    "    plt.show()\n",
    "    \n",
    "    return w,b\n",
    "    \n",
    "np.random.seed(1243)\n",
    "w = np.zeros((28*28, 10))\n",
    "b = np.zeros(10)\n",
    "w,b = test_sgd(x_train, t_train, x_valid, t_valid, w, b)"
   ]
  },
  {
   "cell_type": "code",
   "execution_count": null,
   "metadata": {
    "deletable": false,
    "editable": false,
    "nbgrader": {
     "checksum": "0d46a6466493fa88818a210decebf40a",
     "grade": true,
     "grade_id": "cell-b290fe89d0aa4ffb",
     "locked": true,
     "points": 2,
     "schema_version": 1,
     "solution": false
    }
   },
   "outputs": [],
   "source": [
    "# Hidden tests for efficiency"
   ]
  },
  {
   "cell_type": "markdown",
   "metadata": {
    "deletable": false,
    "editable": false,
    "nbgrader": {
     "checksum": "a6d85bbd97cad35d524b65b23f64e75f",
     "grade": false,
     "grade_id": "cell-cf7f3da57d19493a",
     "locked": true,
     "schema_version": 1,
     "solution": false
    }
   },
   "source": [
    "### 1.2.2 Visualize weights (10 points)\n",
    "Visualize the resulting parameters $\\bW$ after a few iterations through the training set, by treating each column of $\\bW$ as an image. If you want, you can use or edit the `plot_digits(...)` above.\n"
   ]
  },
  {
   "cell_type": "code",
   "execution_count": null,
   "metadata": {
    "deletable": false,
    "nbgrader": {
     "checksum": "4e554436500eebe1527a31039570a264",
     "grade": true,
     "grade_id": "cell-b10656f35fac065e",
     "locked": false,
     "points": 5,
     "schema_version": 1,
     "solution": true
    }
   },
   "outputs": [],
   "source": [
    "\n",
    "f, ax = plt.subplots(2, 5, figsize=(28,29))\n",
    "idx = 0\n",
    "for i in range(2):\n",
    "    for j in range(5):\n",
    "        ax[i,j].imshow(np.reshape(w_1[:, idx], [28,28]), interpolation = \"none\", cmap = \"jet\")\n",
    "        ax[i,j].set_title( \"W_\" + str(idx))\n",
    "        idx += 1"
   ]
  },
  {
   "cell_type": "markdown",
   "metadata": {
    "deletable": false,
    "nbgrader": {
     "checksum": "de187afcf5ae1e34b80bc10610760e7a",
     "grade": true,
     "grade_id": "cell-eb131c8b7303da38",
     "locked": false,
     "points": 5,
     "schema_version": 1,
     "solution": true
    }
   },
   "source": [
    "Describe in less than 100 words why these weights minimize the loss\n",
    "\n",
    "\n",
    "**The weights have activation around certain pixels and give indication of which pixels are the best indicator for a certain class (as we have a single weight picture for each class). We can thus see what the best indicating pixels are for a 0 in the first picture, or a 1 in the second, and so on. This maximizes the accuracy of predictions because we expect that a 0 in the testset will more likely have the same pattern of pixel values around these points, and will therefore give a higher probability for that class being chosen.**"
   ]
  },
  {
   "cell_type": "markdown",
   "metadata": {
    "deletable": false,
    "editable": false,
    "nbgrader": {
     "checksum": "7a6a97ce145be9d58d5cf190e49da491",
     "grade": false,
     "grade_id": "cell-f36d974d9ef34c97",
     "locked": true,
     "schema_version": 1,
     "solution": false
    }
   },
   "source": [
    "### 1.2.3. Visualize the 8 hardest and 8 easiest digits (10 points)\n",
    "Visualize the 8 digits in the validation set with the highest probability of the true class label under the model.\n",
    "Also plot the 8 digits that were assigned the lowest probability.\n"
   ]
  },
  {
   "cell_type": "code",
   "execution_count": null,
   "metadata": {
    "deletable": false,
    "nbgrader": {
     "checksum": "4f212e606b9d9d7fd4ae403d643dacfd",
     "grade": true,
     "grade_id": "cell-3802d61680deeff5",
     "locked": false,
     "points": 5,
     "schema_version": 1,
     "solution": true
    }
   },
   "outputs": [],
   "source": [
    "_, good_predictions = validate(x_valid, t_valid, w_1, b_1, top=8)\n",
    "_, bad_predictions = validate(x_valid, t_valid, w_1, b_1, top=-8)\n",
    "\n",
    "f, ax = plt.subplots(2, 8, figsize=(28,28))\n",
    "idx = 0\n",
    "labels = [\"Most\", \"Least\"]\n",
    "predictions = [good_predictions,bad_predictions]\n",
    "for i in range(2):\n",
    "    print(labels[i], \"loglikelihood\")\n",
    "    for j in range(8):\n",
    "        ax[i,j].imshow(np.reshape(predictions[i][j], [28,28]), interpolation = \"none\", cmap = \"grey\")\n",
    "        ax[i,j].set_title( \"Picture_\" + str(idx))\n",
    "        idx += 1"
   ]
  },
  {
   "cell_type": "markdown",
   "metadata": {
    "deletable": false,
    "nbgrader": {
     "checksum": "642d43cd6542e6cf49779799becbd435",
     "grade": true,
     "grade_id": "cell-6564a51fdda06d95",
     "locked": false,
     "points": 5,
     "schema_version": 1,
     "solution": true
    }
   },
   "source": [
    "Ask yourself if these results make sense. Explain in no more then two sentences what it means that a digit is hard to classify.\n",
    "\n",
    "**As is seen in the results, the easy pictures look neater and the harder ones do look more chaotic. This is what makes a digit harder to classify; when it looks less like the other digits of its class in the dataset on which has been trained. This can be because their shap is off or because they have been moved out of the center**"
   ]
  },
  {
   "cell_type": "markdown",
   "metadata": {
    "deletable": false,
    "editable": false,
    "nbgrader": {
     "checksum": "21418c6f8f5a8b5bd54c2b6fd655ec90",
     "grade": false,
     "grade_id": "cell-2c525344c99e5b26",
     "locked": true,
     "schema_version": 1,
     "solution": false
    }
   },
   "source": [
    "# Part 2. Multilayer perceptron\n",
    "\n",
    "\n",
    "You discover that the predictions by the logistic regression classifier are not good enough for your application: the model is too simple. You want to increase the accuracy of your predictions by using a better model. For this purpose, you're going to use a multilayer perceptron (MLP), a simple kind of neural network. The perceptron will have a single hidden layer $\\bh$ with $L$ elements. The parameters of the model are $\\bV$ (connections between input $\\bx$ and hidden layer $\\bh$), $\\ba$ (the biases/intercepts of $\\bh$), $\\bW$ (connections between $\\bh$ and $\\log q$) and $\\bb$ (the biases/intercepts of $\\log q$).\n",
    "\n",
    "The conditional probability of the class label $j$ is given by:\n",
    "\n",
    "$\\log p(t = j \\;|\\; \\bx, \\bb, \\bW) = \\log q_j - \\log Z$\n",
    "\n",
    "where $q_j$ are again the unnormalized probabilities per class, and $Z = \\sum_j q_j$ is again the probability normalizing factor. Each $q_j$ is computed using:\n",
    "\n",
    "$\\log q_j = \\bw_j^T \\bh + b_j$\n",
    "\n",
    "where $\\bh$ is a $L \\times 1$ vector with the hidden layer activations (of a hidden layer with size $L$), and $\\bw_j$ is the $j$-th column of $\\bW$ (a $L \\times 10$ matrix). Each element of the hidden layer is computed from the input vector $\\bx$ using:\n",
    "\n",
    "$h_j = \\sigma(\\bv_j^T \\bx + a_j)$\n",
    "\n",
    "where $\\bv_j$ is the $j$-th column of $\\bV$ (a $784 \\times L$ matrix), $a_j$ is the $j$-th element of $\\ba$, and $\\sigma(.)$ is the so-called sigmoid activation function, defined by:\n",
    "\n",
    "$\\sigma(x) = \\frac{1}{1 + \\exp(-x)}$\n",
    "\n",
    "Note that this model is almost equal to the multiclass logistic regression model, but with an extra 'hidden layer' $\\bh$. The activations of this hidden layer can be viewed as features computed from the input, where the feature transformation ($\\bV$ and $\\ba$) is learned.\n",
    "\n",
    "## 2.1 Derive gradient equations (20 points)\n",
    "\n",
    "State (shortly) why $\\nabla_{\\bb} \\mathcal{L}^{(n)}$ is equal to the earlier (multiclass logistic regression) case, and why $\\nabla_{\\bw_j} \\mathcal{L}^{(n)}$ is almost equal to the earlier case.\n",
    "\n",
    "Like in multiclass logistic regression, you should use intermediate variables $\\mathbf{\\delta}_j^q$. In addition, you should use intermediate variables $\\mathbf{\\delta}_j^h = \\frac{\\partial \\mathcal{L}^{(n)}}{\\partial h_j}$.\n",
    "\n",
    "Given an input image, roughly the following intermediate variables should be computed:\n",
    "\n",
    "$\n",
    "\\log \\bq \\rightarrow Z \\rightarrow \\log \\bp \\rightarrow \\mathbf{\\delta}^q \\rightarrow \\mathbf{\\delta}^h\n",
    "$\n",
    "\n",
    "where $\\mathbf{\\delta}_j^h = \\frac{\\partial \\mathcal{L}^{(n)}}{\\partial \\bh_j}$.\n",
    "\n",
    "Give the equations for computing $\\mathbf{\\delta}^h$, and for computing the derivatives of $\\mathcal{L}^{(n)}$ w.r.t. $\\bW$, $\\bb$, $\\bV$ and $\\ba$. \n",
    "\n",
    "You can use the convenient fact that $\\frac{\\partial}{\\partial x} \\sigma(x) = \\sigma(x) (1 - \\sigma(x))$."
   ]
  },
  {
   "cell_type": "markdown",
   "metadata": {
    "deletable": false,
    "nbgrader": {
     "checksum": "bb7ce29f01484f94a6357784ddaf6412",
     "grade": true,
     "grade_id": "cell-48f48bb8ec75cc3c",
     "locked": false,
     "points": 20,
     "schema_version": 1,
     "solution": true
    }
   },
   "source": [
    "$\\nabla_{\\bb} \\mathcal{L}^{(n)}$ will be exactly the same because the only difference between the earlier case, is that now $\\log q_j = \\bw_j^T \\bh + b_j$.\n",
    "For this same reason $\\nabla_{\\bw_j} \\mathcal{L}^{(n)}$ will only differ in that $x_i$ is now $h_i$.\n",
    "\n",
    "For $j = t^{(n)}$:\n",
    "\\begin{align}\n",
    "\\delta^q_j\n",
    "=\n",
    "1  - \\frac{\\partial \\log Z}{\\partial Z} \n",
    "\\frac{\\partial Z}{\\partial \\log q_j}\n",
    "= \n",
    "1 - \\frac{\\exp(\\log q_j)}{Z} \n",
    "\\end{align}\n",
    "For $j \\neq t^{(n)}$:\n",
    "\\begin{align}\n",
    "\\delta^q_j\n",
    "=\n",
    "- \\frac{\\partial \\log Z}{\\partial Z} \n",
    "\\frac{\\partial Z}{\\partial \\log q_j}\n",
    "=\n",
    "- \\frac{1}{Z} \n",
    "\\frac{\\partial Z}{\\partial \\log q_j}\n",
    "&=\n",
    "- \\frac{\\exp(\\log q_j)}{Z} \n",
    "\\end{align}\n",
    "\n",
    "For $\\delta^h$:\n",
    "$$\n",
    "\\delta^h_j\n",
    "=\n",
    "\\frac{\\partial L^{(n)}}{\\partial \\textbf{h}_j }\n",
    "=\n",
    "\\sum_k\n",
    "\\frac{\\partial L^{(n)}}{\\partial \\log(q_k)} \\frac{\\partial \\log(q_k)}{\\partial \\textbf{h}_j}\n",
    "=\n",
    "\\sum_k\n",
    "\\delta^q_j\n",
    "\\frac{\\partial (w_k^T\\textbf{h}+\\textbf{b}_k)}{\\partial \\textbf{h}_j}\n",
    "=\n",
    "\\sum_k\n",
    "\\delta^q_j\n",
    "w_k^T\\mathbb{I}_j\n",
    "=\n",
    "\\sum_k \\delta_k^q w_{kj}\n",
    "$$\n",
    "\n",
    "For\n",
    "$\n",
    "\\frac{\\partial (\\mathcal{L}^{(n)})}{\\partial \\mathbf{b}}\n",
    "$:\n",
    "\n",
    "$$\n",
    "\\frac{\\partial (\\mathcal{L}^{(n)})}{\\partial \\mathbf{b}}\n",
    "=\n",
    "\\frac{\\partial (\\mathcal{L}^{(n)})}{\\partial \\log(q)}\n",
    "\\frac{\\partial \\log(q)}{\\partial \\mathbf{b}}\n",
    "=\n",
    "\\delta_j^q \\cdot 1\n",
    "=\n",
    "\\delta_j^q\n",
    "$$\n",
    "\n",
    "For:\n",
    "$\n",
    "\\frac{\\partial (\\mathcal{L}^{(n)})}{\\partial \\mathbf{w}_j}\n",
    "$\n",
    "\n",
    "$$\n",
    "\\frac{\\partial (\\mathcal{L}^{(n)})}{\\partial \\mathbf{w}_j}\n",
    "=\n",
    "\\frac{\\partial (\\mathcal{L}^{(n)})}{\\partial \\log(\\mathbf{q})}\n",
    "\\frac{\\partial \\log(\\mathbf{q})}{\\partial \\mathbf{w}_j}\n",
    "=\n",
    "\\delta_j^q \n",
    "\\frac{\\partial (\\mathbf{\\mathbf{w}_j^T}\\mathbf{h} + \\mathbf{b})}{\\partial \\mathbf{w}_j}\n",
    "=\n",
    "\\delta_j^q \\bh\n",
    "$$\n",
    "\n",
    "For\n",
    "$\n",
    "\\frac{\\partial (\\mathcal{L}^{(n)})}{\\partial \\mathbf{W}}\n",
    "$:\n",
    "\n",
    "$$\n",
    "\\frac{\\partial (\\mathcal{L}^{(n)})}{\\partial \\mathbf{W}}\n",
    "=\n",
    "\\frac{\\partial }{\\partial \\mathbf{W}} \\log q_j - \\frac{\\partial }{\\partial \\mathbf{W}}\\log Z\n",
    "=\n",
    "\\frac{\\partial }{\\partial \\mathbf{W}}( \\bw_j^T \\bh + b_j) - \\frac{\\partial }{\\partial \\mathbf{W}}(\\sum_j q_j)\n",
    "=\n",
    "\\delta^q \\bh\n",
    "$$\n",
    "\n",
    "For\n",
    "$\n",
    "\\frac{\\partial (\\mathcal{L}^{(n)})}{\\partial  \\textbf{a}}\n",
    "$:\n",
    "\n",
    "$$\n",
    "\\frac{\\partial (\\mathcal{L}^{(n)})}{\\partial  \\textbf{a}_j}\n",
    "=\n",
    "\\frac{\\partial (\\mathcal{L}^{(n)})}{\\partial h}\n",
    "\\frac{\\partial h}{\\partial  \\textbf{a}_j}\n",
    "=\n",
    "\\delta^h\n",
    "\\frac{\\partial}{\\partial  \\textbf{a}_j} \\sigma(\\bv_j^T \\bx + \\textbf{a}_j)\n",
    "=\n",
    "\\delta^h\n",
    "\\sigma(\\bv_j^T \\bx + a_j)(1-\\sigma(\\bv_j^T \\bx + a_j))\\frac{\\partial}{\\partial  \\textbf{a}_j}( \\bv_j^T \\bx + a_j)\n",
    "=\n",
    "\\delta^h\n",
    "h(1-h)\n",
    "\\frac{\\partial a_j}{\\partial \\textbf{a}_j}\n",
    "=\n",
    "\\delta^h\n",
    "h(1-h)\n",
    "$$\n",
    "\n",
    "For\n",
    "$\n",
    "\\frac{\\partial (\\mathcal{L}^{(n)})}{\\partial  \\textbf{V}}\n",
    "$:\n",
    "\n",
    "$$\n",
    "\\frac{\\partial (\\mathcal{L}^{(n)})}{\\partial  \\textbf{v}_j}\n",
    "=\n",
    "\\frac{\\partial (\\mathcal{L}^{(n)})}{\\partial h}\n",
    "\\frac{\\partial h}{\\partial  \\textbf{v}_j}\n",
    "=\n",
    "\\mathbf{\\delta}^h\n",
    "\\frac{\\partial }{\\partial  \\textbf{v}_j}\n",
    "\\sigma(\\bv_j^T \\bx + a_j)\n",
    "=\n",
    "\\mathbf{\\delta}^h\n",
    "\\sigma(\\bv_j^T \\bx + a_j)(1-\\sigma(\\bv_j^T \\bx + a_j))\\frac{\\partial}{\\partial  \\textbf{v}_j}( \\bv_j^T \\bx + a_j)\n",
    "=\n",
    "\\mathbf{\\delta}^h\n",
    "h(1-h)\n",
    "\\frac{\\partial ( \\bv_j^T \\bx)}{\\partial  \\textbf{v}_j}\n",
    "=\n",
    "\\mathbf{\\delta}^h\n",
    "h(1-h)\n",
    "\\mathbf{x}^T\n",
    "$$"
   ]
  },
  {
   "cell_type": "markdown",
   "metadata": {
    "deletable": false,
    "editable": false,
    "nbgrader": {
     "checksum": "cfcfec5959134f7f3fca2ba585a94fba",
     "grade": false,
     "grade_id": "cell-0bff945081e993fc",
     "locked": true,
     "schema_version": 1,
     "solution": false
    }
   },
   "source": [
    "## 2.2 MAP optimization (10 points)\n",
    "\n",
    "You derived equations for finding the _maximum likelihood_ solution of the parameters. Explain, in a few sentences, how you could extend this approach so that it optimizes towards a _maximum a posteriori_ (MAP) solution of the parameters, with a Gaussian prior on the parameters. "
   ]
  },
  {
   "cell_type": "markdown",
   "metadata": {
    "deletable": false,
    "nbgrader": {
     "checksum": "49d6376929b1cdf60a9ca9282512f1b4",
     "grade": true,
     "grade_id": "cell-1daef2744c010b73",
     "locked": false,
     "points": 10,
     "schema_version": 1,
     "solution": true
    }
   },
   "source": [
    "**The maximum a posteriori solution is based on chooosing the most probable weights, give a dataset. By introducing a prior and applying Bayes rule, we can write the posterior of the weights as a function of the likelihood and the prior. We then find the derivative w.r.t each of the parameters (W,b,V,a) as before and use these gradients in the update rule of the SGD algorithm.**"
   ]
  },
  {
   "cell_type": "markdown",
   "metadata": {
    "deletable": false,
    "editable": false,
    "nbgrader": {
     "checksum": "c7e27334475d494b296af3afdf6bfcb4",
     "grade": false,
     "grade_id": "cell-2e56d8a567e2fb08",
     "locked": true,
     "schema_version": 1,
     "solution": false
    }
   },
   "source": [
    "## 2.3. Implement and train a MLP (15 points)\n",
    "\n",
    "Implement an MLP model with a single hidden layer of **20 neurons**. \n",
    "Train the model for **10 epochs**.\n",
    "Test your implementation for learning rates of 1e-2, 1e-3 and 1e-4 and plot (in one graph) the conditional log-probability of the trainingset and validation set. \n",
    "\n",
    "For the best model plot the weights of the first layer for in epoch 0,4 and 9. \n",
    "\n",
    "\n",
    "- 10 points: Working MLP that learns with plots\n",
    "- +5 points: Fast, numerically stable, vectorized implementation"
   ]
  },
  {
   "cell_type": "code",
   "execution_count": null,
   "metadata": {
    "deletable": false,
    "nbgrader": {
     "checksum": "bca5a8a86e2d27a1c43d84fd9105421d",
     "grade": true,
     "grade_id": "cell-5d1924ace9e216e2",
     "locked": false,
     "points": 0,
     "schema_version": 1,
     "solution": true
    }
   },
   "outputs": [],
   "source": [
    "from scipy.special import expit\n",
    "\n",
    "def print_shapes(names,matrices):\n",
    "    for name,matrix in zip(names,matrices):\n",
    "        print(\"{} shape: {}\".format(name,matrix.shape))\n",
    "        \n",
    "def get_delta_q(log_q, log_Z, b, t, log_p):\n",
    "    delta_q4 = -np.exp(log_p)\n",
    "    \n",
    "    delta_q4[0,t] += 1,\n",
    "   \n",
    "    return delta_q4.T\n",
    "\n",
    "def get_Z(log_q):\n",
    "    a = np.ndarray.max(log_q)\n",
    "    log_Z = a\n",
    "    log_Z += np.log(sum(np.exp(log_q-a)))\n",
    "    \n",
    "    return log_Z\n",
    "        \n",
    "def forward_pass(x, w, b, v, a):\n",
    "    # Compute f \n",
    "#     f = np.dot(x,v)+a.T\n",
    "    f = np.add(np.dot(x,v),a.T)\n",
    "    \n",
    "    #Compute h\n",
    "    h = expit(f)\n",
    "    \n",
    "    # Compute log(q) \n",
    "    log_q = np.add(np.dot(h,w),b)\n",
    "    \n",
    "    # Compute Z, keeping it numerically stable\n",
    "    log_Z = get_Z(log_q)\n",
    "    \n",
    "    # Compute log(p) (softmax)\n",
    "    logp = np.subtract(log_q, log_Z)\n",
    "    \n",
    "    return logp,log_q, log_Z, h\n",
    "\n",
    "def back_propagate(logp, log_q, log_Z, h, t, w, b, x):\n",
    "    # Compute delta_q\n",
    "    delta_q = get_delta_q(log_q, log_Z, b, t, logp)\n",
    "    \n",
    "    # Compute delta_h\n",
    "    delta_h = np.dot(w,delta_q).reshape(20,1)\n",
    "    \n",
    "    # Compute gradients w.r.t w,b,a,v\n",
    "    dL_db = delta_q\n",
    "    dL_dw = np.dot(h.T,delta_q.reshape(1,10))\n",
    "    dL_da = delta_h.T.dot(h.T.dot(1-h))\n",
    "    dL_dv = delta_h*h.dot(1-h.T).dot(x)\n",
    "    \n",
    "    return dL_db, dL_dw, dL_da, dL_dv\n",
    "\n",
    "# Write all helper functions here\n",
    "def logreg_gradient_ML(x, t, w, b, v, a):\n",
    "    \n",
    "    # do the forward pass\n",
    "    logp, log_q, log_Z, h = forward_pass(x, w, b, v, a)\n",
    "    \n",
    "    # find derivatives\n",
    "    dL_db, dL_dw, dL_da, dL_dv = back_propagate(logp, log_q, log_Z, h, t, w, b, x)\n",
    "\n",
    "    return logp[:,t].squeeze(), dL_dw, dL_db.squeeze(),dL_da,dL_dv.T\n",
    "\n",
    "def validate_ML(x_valid, t_valid, w, b, V,a, top=0):\n",
    "    \n",
    "    indices = np.array(range(len(x_valid)))    \n",
    "    logp_list = []\n",
    "    for index in indices:\n",
    "        \n",
    "        # we only need the forward pass for validation\n",
    "        forwardly_passed, _, _, _ = forward_pass(x_valid[index:index+1,:], w, b, V, a)\n",
    "        logp_train = forwardly_passed[:,t_valid[index]].squeeze()\n",
    "        logp_list.append(logp_train)\n",
    "        \n",
    "    show = None\n",
    "    \n",
    "    if (not top == 0):\n",
    "    \n",
    "        maxx = np.array(logp_list).argsort()\n",
    "\n",
    "        if top>=0:\n",
    "            show = x_valid[maxx[len(maxx)-1-top:]]\n",
    "        else:\n",
    "            show = x_valid[maxx[0:-top]]\n",
    "\n",
    "    return np.mean(logp_list), show\n",
    "\n",
    "def weight_updates(W, b, V, a, grad_w, grad_b,dL_da, dL_dv ):\n",
    "    W = np.add(W, np.dot(eta, grad_w))\n",
    "    b = np.add(b, np.dot(eta, grad_b))\n",
    "    V = np.add(V, np.dot(eta, dL_dv))\n",
    "    a = np.add(a, np.dot(eta, dL_da.T))\n",
    "    return W, b, V, a\n",
    "    \n",
    "\n",
    "def sgd_iter_ML(x_train, t_train, W, b, V, a , eta = 1e-4):\n",
    "    indices = np.array(range(len(x_train)))\n",
    "    np.random.shuffle(indices)\n",
    "\n",
    "    logp_list = []\n",
    "    for index in indices:\n",
    "        _, grad_w, grad_b,dL_da, dL_dv = logreg_gradient_ML(\n",
    "            x_train[index:index+1,:],\n",
    "            t_train[index:index+1],\n",
    "            W,\n",
    "            b,\n",
    "            V,\n",
    "            a\n",
    "        )\n",
    "        W, b, V, a = weight_updates(W, b, V, a, grad_w, grad_b, dL_da, dL_dv )\n",
    "        \n",
    "    mean_log_p, _ = validate_ML(x_train, t_train, W, b, V,a)\n",
    "        \n",
    "    return mean_log_p, W, b,V,a\n",
    "\n",
    "def test_sgd_ML(x_train, t_train, x_valid, t_valid, w, b, V, a, eta):\n",
    "    epsilon = 0.005\n",
    "    epochs = 10\n",
    "    \n",
    "    diff = sys.maxsize\n",
    "    diff_valid = sys.maxsize\n",
    "    logp = [diff]\n",
    "    logp_v = [diff_valid]\n",
    "    \n",
    "    vs = []\n",
    "    \n",
    "    for i in range(epochs):\n",
    "        logp_train, w, b,V,a = sgd_iter_ML(x_train, t_train, w, b, V, a, eta=eta)\n",
    "        logp_valid, _ = validate_ML(x_valid, t_valid, w, b, V, a)\n",
    "        \n",
    "        diff = abs(sum(logp_train - logp[-1]))\n",
    "        \n",
    "        logp.append(logp_train)\n",
    "        logp_v.append(logp_valid)\n",
    "        \n",
    "        if (i == 0) or (i==4) or (i==9):\n",
    "            vs.append(V)\n",
    "            \n",
    "        print(\"epoch:\", i, \"difference with last epoch:\", diff, \"current average log likelihood:\", logp_train )\n",
    "        \n",
    "    \n",
    "    logp.pop(0)\n",
    "    logp_v.pop(0)\n",
    "    \n",
    "    \n",
    "    return w,b,V,a, logp, logp_v,vs\n"
   ]
  },
  {
   "cell_type": "code",
   "execution_count": null,
   "metadata": {
    "deletable": false,
    "editable": false,
    "nbgrader": {
     "checksum": "c73a8145fa846d154551bd6d85908790",
     "grade": true,
     "grade_id": "cell-94b75f65d3038a67",
     "locked": true,
     "points": 5,
     "schema_version": 1,
     "solution": false
    }
   },
   "outputs": [],
   "source": [
    "# Hidden tests for efficiency"
   ]
  },
  {
   "cell_type": "code",
   "execution_count": null,
   "metadata": {
    "deletable": false,
    "nbgrader": {
     "checksum": "f3be36f9cf960203b49603b3719b8a4d",
     "grade": true,
     "grade_id": "cell-e9b2125a5ea8a22c",
     "locked": false,
     "points": 10,
     "schema_version": 1,
     "solution": true
    }
   },
   "outputs": [],
   "source": [
    "w,b,a,V = None,None,None,None\n",
    "\n",
    "# Shown tests for testing\n",
    "np.random.seed(123)\n",
    "hidden_dim = 20\n",
    "\n",
    "logp_vs = []\n",
    "logps = []\n",
    "etas = [1e-2, 1e-4, 1e-3 ]\n",
    "all_ws = []\n",
    "all_vs = []\n",
    "question_vs = []\n",
    "for eta in etas:\n",
    "    print(\"Eta {}\".format(eta))\n",
    "    w_2 = np.random.normal(size=(hidden_dim,10), scale=0.1)\n",
    "    b_2 = np.zeros((10,))\n",
    "\n",
    "    a = np.zeros((1, hidden_dim)).T\n",
    "    V = np.random.normal(size=(784, hidden_dim), scale=0.1)\n",
    "\n",
    "    w_2,b_2,V,a,logp, logp_v,vs = test_sgd_ML(x_train, t_train, x_valid, t_valid, w_2, b_2, V, a, eta)\n",
    "    \n",
    "    all_ws.append(w)\n",
    "    all_vs.append(V)\n",
    "    question_vs.append(vs)\n",
    "    \n",
    "    logps.append(logp)\n",
    "    logp_vs.append(logp_v)"
   ]
  },
  {
   "cell_type": "code",
   "execution_count": null,
   "metadata": {
    "deletable": false,
    "nbgrader": {
     "checksum": "9e9550447ee575c602a21489ce8534bb",
     "grade": true,
     "grade_id": "cell-b90dafbb9f41c1ed",
     "locked": false,
     "points": 0,
     "schema_version": 1,
     "solution": true
    }
   },
   "outputs": [],
   "source": [
    "for logp, logpv, eta in zip(logps, logp_vs, etas):\n",
    "    plt.plot(logp, label=\"train - {}\".format(eta))\n",
    "    plt.scatter(range(len(logp)),logp)\n",
    "    plt.scatter(range(len(logp_v)),logp_v)\n",
    "    plt.plot(logp_v, label=\"valid - {}\".format(eta))\n",
    "    \n",
    "plt.legend()\n",
    "plt.show()\n",
    "\n",
    "def get_best_model(logps):\n",
    "    maximum = -sys.maxsize\n",
    "    best_i = -1\n",
    "    for i,logp_list in enumerate(logps):\n",
    "        this_max = max(logp_list)\n",
    "        if this_max > maximum:\n",
    "            best_i = i\n",
    "            maximum = this_max\n",
    "\n",
    "    return best_i, maximum,etas[best_i]\n",
    "\n",
    "best_index,_,_ = get_best_model(logps)\n",
    "\n",
    "def plot_vs(vs, epochs):\n",
    "    for v,epoch in zip(vs,epochs):\n",
    "        print(\"Epoch : {}\".format(epoch))\n",
    "        f, ax = plt.subplots(4, 5, figsize=(28,28))\n",
    "        idx = 0\n",
    "        for i in range(4):\n",
    "            for j in range(5):\n",
    "                ax[i,j].imshow(np.reshape(v[:, idx], [28,28]), interpolation = \"none\", cmap = \"gray\")\n",
    "                ax[i,j].set_title( \"V_\" + str(idx))\n",
    "                idx += 1\n",
    "        plt.show()\n",
    "        \n",
    "plot_vs(question_vs[best_index], [0,4,9])\n",
    "    "
   ]
  },
  {
   "cell_type": "markdown",
   "metadata": {
    "deletable": false,
    "editable": false,
    "nbgrader": {
     "checksum": "046552f90febc455e5c56d6bb68b8849",
     "grade": false,
     "grade_id": "cell-5b926040b792b57a",
     "locked": true,
     "schema_version": 1,
     "solution": false
    }
   },
   "source": [
    "### 2.3.1. Explain the learning curves (5 points)\n",
    "In less than 80 words, explain the observed behaviour for the different learning rates."
   ]
  },
  {
   "cell_type": "markdown",
   "metadata": {
    "deletable": false,
    "nbgrader": {
     "checksum": "ca72ec2f983a4d7ca6083fffbf5f6063",
     "grade": true,
     "grade_id": "cell-8858cbe0e4dd02c7",
     "locked": false,
     "points": 5,
     "schema_version": 1,
     "solution": true
    }
   },
   "source": [
    "**In the case of 1e-2 we see that the likelihood increases really fast at first but then it also gets woirse again. This can be explained by a too high learning rate to descent into a local minimum and thus the algorithm keeps oscillating around that minimum. However, with learning rate of 1e-4 we get convergence but too slowly. In the end the run with 1e-3 is the best because its fast but it does not get stuck in oscillation.**"
   ]
  },
  {
   "cell_type": "markdown",
   "metadata": {
    "deletable": false,
    "editable": false,
    "nbgrader": {
     "checksum": "a03d026530585bc63f3cad6534b75f1b",
     "grade": false,
     "grade_id": "cell-6ae8cb5a4c246b97",
     "locked": true,
     "schema_version": 1,
     "solution": false
    }
   },
   "source": [
    "### 2.3.2. Explain the weights (5 points)\n",
    "In less than 80 words, explain how and why the weights of the hidden layer of the MLP differ from the logistic regression model, and relate this to the stronger performance of the MLP."
   ]
  },
  {
   "cell_type": "code",
   "execution_count": null,
   "metadata": {
    "deletable": false,
    "nbgrader": {
     "checksum": "8f24e3bf890299503af4561915a23915",
     "grade": true,
     "grade_id": "cell-69b3830258566c6d",
     "locked": false,
     "points": 0,
     "schema_version": 1,
     "solution": true
    }
   },
   "outputs": [],
   "source": [
    "# NOTE: we found it a bit weird we were asked to plot this twice\n",
    "\n",
    "plot_vs([question_vs[best_index][-1]], [[0,4,9][-1]])"
   ]
  },
  {
   "cell_type": "markdown",
   "metadata": {
    "deletable": false,
    "nbgrader": {
     "checksum": "7f6cbf48a398f8722f4d403b957b2075",
     "grade": true,
     "grade_id": "cell-c4fdc27b1aab6828",
     "locked": false,
     "points": 5,
     "schema_version": 1,
     "solution": true
    }
   },
   "source": [
    "**Observed in the weights of the first layer is that more low-level features are extracted from the pictures. Such as arches, circles or edges. These features are thus learned and the classification in this lower dimensional space can then be learned in the second layer. This is also why the network outperforms the logistic regression classifier. It is a more flexible model and does some of the feature engineering for you where before we just took raw pixel value as features.**"
   ]
  },
  {
   "cell_type": "markdown",
   "metadata": {
    "deletable": false,
    "editable": false,
    "nbgrader": {
     "checksum": "dd6a4522e0601e36fd37c9586a76236e",
     "grade": false,
     "grade_id": "cell-d10e996556dd40e5",
     "locked": true,
     "schema_version": 1,
     "solution": false
    }
   },
   "source": [
    "### 2.3.2. Different activation functions (10 points)\n",
    "In the task above we use a sigmoid as an activation function.\n",
    "Two other popular choices for activation functions are tanh and the rectified linear unit (ReLU). The ReLU is defined as:\n",
    "\n",
    "$$f(x) = \\max(0.,x)$$\n",
    "\n",
    "You already derived the derivative of the softmax function above. Here, write down the derivative for both the tanh and the ReLU function. Furthermore, for all three, plot the function and its derivative in a range $x\\in[-3,3]$"
   ]
  },
  {
   "cell_type": "markdown",
   "metadata": {
    "deletable": false,
    "nbgrader": {
     "checksum": "d67f15590158b453265dcd76b39e6631",
     "grade": true,
     "grade_id": "cell-e049422b1f9ce35e",
     "locked": false,
     "points": 0,
     "schema_version": 1,
     "solution": true
    }
   },
   "source": [
    "Write down the derivative of ReLU and tanh w.r.t. their respective argument:\n",
    "\n",
    "ReLU:\n",
    "$$\n",
    "\\frac{\\partial}{\\partial x}ReLU(x)\n",
    "=\n",
    "\\frac{\\partial}{\\partial x}\n",
    "\\left\\{\\begin{matrix}\n",
    "0 & x \\leq 0 \\\\ \n",
    "x & x > 0\n",
    "\\end{matrix}\\right.\n",
    "=\n",
    "\\left\\{\\begin{matrix}\n",
    "0 & x < 0 \\\\ \n",
    "1 & x > 0\n",
    "\\end{matrix}\\right.\n",
    "$$\n",
    "\n",
    "TanH:\n",
    "$$\n",
    "\\frac{\\partial}{\\partial x}tanh(x)\n",
    "=\n",
    "\\frac{\\partial}{\\partial x}\n",
    "\\frac{e^x + e^{-x}}{e^x - e^{-x}}\n",
    "=\n",
    "\\frac{\\partial}{\\partial x}\n",
    "\\frac{e^x-e^{-x}(e^x - e^{-x})-(e^x + e^{-x})(e^x + e^{-x})}{(e^x - e^{-x})^2}\n",
    "=\n",
    "\\frac{e^x-e^{-x}(e^x - e^{-x})}{(e^x - e^{-x})^2}\n",
    "-\n",
    "\\frac{(e^x + e^{-x})(e^x + e^{-x})}{(e^x - e^{-x})^2}\n",
    "=\n",
    "\\frac{e^x-e^{-x}}{e^x - e^{-x}}\n",
    "-\n",
    "tahn(x)^2\n",
    "=\n",
    "1\n",
    "-\n",
    "tanh(x)^2\n",
    "$$\n",
    "\n",
    "Sigmoid:\n",
    "$$\n",
    "\\frac{\\partial}{\\partial x}\\sigma(x)\n",
    "=\n",
    "\\sigma(x)(1-\\sigma(x))\n",
    "$$\n",
    "\n",
    "\n",
    "Name two properties that you would like your activation function to have (one sentence each). Why are they important?\n",
    "\n",
    "\n",
    "**- The activation must have an easy derivative on which multiple layers of chain-rule can be applied, whilst still being non-linear to allow the neural net to model non-linearity.**\n",
    "\n",
    "**- Computationally undemanding for fast forward passes in the network**\n",
    "\n"
   ]
  },
  {
   "cell_type": "code",
   "execution_count": null,
   "metadata": {
    "deletable": false,
    "nbgrader": {
     "checksum": "9121f55cf725651c75e033f7ca13ee92",
     "grade": true,
     "grade_id": "cell-ecd7fbb4f1ece014",
     "locked": false,
     "points": 5,
     "schema_version": 1,
     "solution": true
    }
   },
   "outputs": [],
   "source": [
    "# plot the function and the derivative for the activations sigmoid, tanh and ReLU.\n",
    "import math\n",
    "def sigmoid(x):\n",
    "    return 1 / (1 + math.exp(-x))\n",
    "\n",
    "def relu_dx(x):\n",
    "    if x > 0:\n",
    "        return 1\n",
    "    else:\n",
    "        return 0\n",
    "    \n",
    "def maximum(x):\n",
    "    return max(0,x)\n",
    "\n",
    "def sigmoid_dx(x):\n",
    "    return sigmoid(x)*(1-sigmoid(x))\n",
    "\n",
    "# YOUR CODE HERE\n",
    "x = np.arange(-3,3,0.01)\n",
    "\n",
    "plt.title(\"TanH and its derivative\")\n",
    "plt.plot(np.tanh(x), label=\"tanh\")\n",
    "plt.plot(1-np.tanh(x)**2, label =\"tanh dx\")\n",
    "plt.legend()\n",
    "plt.show()\n",
    "\n",
    "plt.title(\"ReLu and its derivative\")\n",
    "plt.plot(np.maximum(x, 0), label=\"ReLU\")\n",
    "plt.plot(np.array(list(map(relu_dx, x))),label =\"ReLU dx\")\n",
    "plt.legend()\n",
    "plt.show()\n",
    "\n",
    "plt.title(\"Sigmoid and its derivative\")\n",
    "plt.plot(np.array(list(map(sigmoid, x))), label=\"sigmoid\")\n",
    "plt.plot(np.array(list(map(sigmoid_dx, x))), label=\"sigmoid dx\")\n",
    "plt.legend()\n",
    "plt.show()"
   ]
  },
  {
   "cell_type": "markdown",
   "metadata": {
    "deletable": false,
    "nbgrader": {
     "checksum": "928719563cd5a64fe7fbbe05361a4f9e",
     "grade": true,
     "grade_id": "cell-b80eb6b6816d09f7",
     "locked": false,
     "points": 5,
     "schema_version": 1,
     "solution": true
    }
   },
   "source": [
    "Now that you plotted the activations and derivatives, which activation do you think is the best? Why would you choose this activation function? For your answer consider what you named as essential properties for an activation function above. Keep your answer short at no more then 3 sentences.\n",
    "\n",
    "**Although all three have their own nice property, we are going with ReLU, because its derivative is easy to compute and also the application of the activation function is easy. In the neural network that we implemented in the excersise we found that applying the sigmoid activation function was a bottleneck in time performance. Dispite sigmoid having an nice derivative, also the derivative of ReLu is nice, having only ones and zeroes, making it possible to discard a lot without increasing computational complexity.**"
   ]
  },
  {
   "cell_type": "code",
   "execution_count": null,
   "metadata": {
    "deletable": false,
    "editable": false,
    "nbgrader": {
     "checksum": "c45d88c24c3a46a7b1ce3d417bf56c96",
     "grade": false,
     "grade_id": "cell-995c4d580f198861",
     "locked": true,
     "schema_version": 1,
     "solution": false
    }
   },
   "outputs": [],
   "source": [
    "print('Notebook ran in {:2.3} minutes.'.format((time.time()-start)/60))"
   ]
  }
 ],
 "metadata": {
  "kernelspec": {
   "display_name": "Python [default]",
   "language": "python",
   "name": "python3"
  },
  "language_info": {
   "codemirror_mode": {
    "name": "ipython",
    "version": 3
   },
   "file_extension": ".py",
   "mimetype": "text/x-python",
   "name": "python",
   "nbconvert_exporter": "python",
   "pygments_lexer": "ipython3",
   "version": "3.6.2"
  }
 },
 "nbformat": 4,
 "nbformat_minor": 1
}
